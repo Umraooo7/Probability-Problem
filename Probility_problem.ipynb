{
 "cells": [
  {
   "cell_type": "markdown",
   "metadata": {},
   "source": [
    "### Probability Problem"
   ]
  },
  {
   "cell_type": "raw",
   "metadata": {},
   "source": [
    "Probability Bag\n",
    "\n",
    "You have been tasked with creating a lab that demonstrates the basics of probability by simulating a bag filled with colored balls. The bag is represented using a dictionary called \"bag\", where the key represents the color of the ball and the value represents the no of balls. The skeleton code has been made for you, do not add or remove any functions. Complete the following functions -\n",
    "\n",
    "fillBag - A function that packs it's arguments into a global dictionary \"bag\".\n",
    "totalBalls - returns the total no of balls in the bucket\n",
    "probOf - takes a color (string) as argument and returns probability of drawing the selected ball. Assume total balls are not zero and the color given is a valid key.\n",
    "probAll - returns a dictionary of all colors and their corresponding probability"
   ]
  },
  {
   "cell_type": "code",
   "execution_count": 32,
   "metadata": {},
   "outputs": [],
   "source": [
    "def fillBag(**balls):\n",
    "    global bag\n",
    "    bag=balls\n",
    "\n",
    "def totalBalls():\n",
    "    Total=0\n",
    "    for i in bag:\n",
    "        Total=Total+bag[i];\n",
    "    return Total\n",
    "    \n",
    "def probOf(color):\n",
    "    c=bag[color]/totalBalls()\n",
    "    return c;\n",
    "\n",
    "def probAll():\n",
    "    probDict = {}\n",
    "    for color in bag:\n",
    "        probDict[color] = probOf(color)\n",
    "    return probDict"
   ]
  },
  {
   "cell_type": "code",
   "execution_count": 36,
   "metadata": {},
   "outputs": [
    {
     "name": "stdout",
     "output_type": "stream",
     "text": [
      "Here is testBag: \n",
      " {'red': 12, 'blue': 20, 'green': 14, 'grey': 10}\n",
      "\n",
      "\n",
      "Total number balls in all bags:  56\n",
      "\n",
      "\n",
      "Prob of each respective ball:  {'red': 0.21428571428571427, 'blue': 0.35714285714285715, 'green': 0.25, 'grey': 0.17857142857142858}\n",
      "\n",
      "\n",
      "Sum of all respective probilities of colored balls:  1.0\n"
     ]
    }
   ],
   "source": [
    "testBag = dict(red = 12, blue = 20, green = 14, grey = 10)\n",
    "\n",
    "total =  sum(testBag.values()) \n",
    "\n",
    "prob={} \n",
    "\n",
    "for color in testBag:\n",
    "    prob[color] = testBag[color]/total;\n",
    "\n",
    "print('Here is testBag: \\n',testBag)   \n",
    "print('\\n')\n",
    "\n",
    "print('Total number balls in all bags: ', total)\n",
    "print('\\n')\n",
    "\n",
    "print('Prob of each respective ball: ', prob)\n",
    "print('\\n')\n",
    "\n",
    "print('Sum of all respective probilities of colored balls: ',sum(prob.values()))"
   ]
  },
  {
   "cell_type": "code",
   "execution_count": null,
   "metadata": {},
   "outputs": [],
   "source": []
  }
 ],
 "metadata": {
  "kernelspec": {
   "display_name": "Python 3",
   "language": "python",
   "name": "python3"
  },
  "language_info": {
   "codemirror_mode": {
    "name": "ipython",
    "version": 3
   },
   "file_extension": ".py",
   "mimetype": "text/x-python",
   "name": "python",
   "nbconvert_exporter": "python",
   "pygments_lexer": "ipython3",
   "version": "3.8.2"
  }
 },
 "nbformat": 4,
 "nbformat_minor": 4
}
